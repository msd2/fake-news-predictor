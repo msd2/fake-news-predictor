{
 "cells": [
  {
   "cell_type": "code",
   "execution_count": 1,
   "id": "33895578-588b-437e-9bac-4e1aeeae9f2b",
   "metadata": {},
   "outputs": [],
   "source": [
    "import pandas as pd\n",
    "import spacy\n",
    "import re\n",
    "nlp = spacy.load('en_core_web_sm')\n",
    "\n",
    "import sys\n",
    "path = '/Users/mdunford/data_science/fake-news-predictor/src'\n",
    "if path not in sys.path:\n",
    "    sys.path.append(path)\n",
    "    \n",
    "\n",
    "from string_process import string_process\n",
    "from tokenize_news import tokenize_string\n",
    "\n",
    "import logging\n",
    "logging.basicConfig(level=logging.INFO)\n",
    "\n",
    "import matplotlib.pyplot as plt\n",
    "import seaborn as sns"
   ]
  },
  {
   "cell_type": "code",
   "execution_count": 2,
   "id": "eedd0b96-3468-4e23-a384-d42ab802d9ec",
   "metadata": {},
   "outputs": [
    {
     "data": {
      "text/html": [
       "<div>\n",
       "<style scoped>\n",
       "    .dataframe tbody tr th:only-of-type {\n",
       "        vertical-align: middle;\n",
       "    }\n",
       "\n",
       "    .dataframe tbody tr th {\n",
       "        vertical-align: top;\n",
       "    }\n",
       "\n",
       "    .dataframe thead th {\n",
       "        text-align: right;\n",
       "    }\n",
       "</style>\n",
       "<table border=\"1\" class=\"dataframe\">\n",
       "  <thead>\n",
       "    <tr style=\"text-align: right;\">\n",
       "      <th></th>\n",
       "      <th>title</th>\n",
       "      <th>text</th>\n",
       "      <th>subject</th>\n",
       "      <th>date</th>\n",
       "      <th>class</th>\n",
       "    </tr>\n",
       "  </thead>\n",
       "  <tbody>\n",
       "    <tr>\n",
       "      <th>0</th>\n",
       "      <td>As U.S. budget fight looms, Republicans flip t...</td>\n",
       "      <td>WASHINGTON (Reuters) - The head of a conservat...</td>\n",
       "      <td>politicsNews</td>\n",
       "      <td>December 31, 2017</td>\n",
       "      <td>0</td>\n",
       "    </tr>\n",
       "    <tr>\n",
       "      <th>1</th>\n",
       "      <td>U.S. military to accept transgender recruits o...</td>\n",
       "      <td>WASHINGTON (Reuters) - Transgender people will...</td>\n",
       "      <td>politicsNews</td>\n",
       "      <td>December 29, 2017</td>\n",
       "      <td>0</td>\n",
       "    </tr>\n",
       "    <tr>\n",
       "      <th>2</th>\n",
       "      <td>Senior U.S. Republican senator: 'Let Mr. Muell...</td>\n",
       "      <td>WASHINGTON (Reuters) - The special counsel inv...</td>\n",
       "      <td>politicsNews</td>\n",
       "      <td>December 31, 2017</td>\n",
       "      <td>0</td>\n",
       "    </tr>\n",
       "    <tr>\n",
       "      <th>3</th>\n",
       "      <td>FBI Russia probe helped by Australian diplomat...</td>\n",
       "      <td>WASHINGTON (Reuters) - Trump campaign adviser ...</td>\n",
       "      <td>politicsNews</td>\n",
       "      <td>December 30, 2017</td>\n",
       "      <td>0</td>\n",
       "    </tr>\n",
       "    <tr>\n",
       "      <th>4</th>\n",
       "      <td>Trump wants Postal Service to charge 'much mor...</td>\n",
       "      <td>SEATTLE/WASHINGTON (Reuters) - President Donal...</td>\n",
       "      <td>politicsNews</td>\n",
       "      <td>December 29, 2017</td>\n",
       "      <td>0</td>\n",
       "    </tr>\n",
       "  </tbody>\n",
       "</table>\n",
       "</div>"
      ],
      "text/plain": [
       "                                               title  \\\n",
       "0  As U.S. budget fight looms, Republicans flip t...   \n",
       "1  U.S. military to accept transgender recruits o...   \n",
       "2  Senior U.S. Republican senator: 'Let Mr. Muell...   \n",
       "3  FBI Russia probe helped by Australian diplomat...   \n",
       "4  Trump wants Postal Service to charge 'much mor...   \n",
       "\n",
       "                                                text       subject  \\\n",
       "0  WASHINGTON (Reuters) - The head of a conservat...  politicsNews   \n",
       "1  WASHINGTON (Reuters) - Transgender people will...  politicsNews   \n",
       "2  WASHINGTON (Reuters) - The special counsel inv...  politicsNews   \n",
       "3  WASHINGTON (Reuters) - Trump campaign adviser ...  politicsNews   \n",
       "4  SEATTLE/WASHINGTON (Reuters) - President Donal...  politicsNews   \n",
       "\n",
       "                 date  class  \n",
       "0  December 31, 2017       0  \n",
       "1  December 29, 2017       0  \n",
       "2  December 31, 2017       0  \n",
       "3  December 30, 2017       0  \n",
       "4  December 29, 2017       0  "
      ]
     },
     "execution_count": 2,
     "metadata": {},
     "output_type": "execute_result"
    }
   ],
   "source": [
    "fake = pd.read_csv('/Users/mdunford/data_science/fake-news-predictor/data/Fake.csv')\n",
    "true = pd.read_csv('/Users/mdunford/data_science/fake-news-predictor/data/True.csv')\n",
    "true['class'] = 0\n",
    "fake['class'] = 1\n",
    "\n",
    "data = pd.concat([true, fake])\n",
    "data = data.reset_index(drop=True)\n",
    "data.head()"
   ]
  },
  {
   "cell_type": "code",
   "execution_count": 3,
   "id": "1a8c72ac-513b-4b0a-81ca-a020e09f6fd3",
   "metadata": {},
   "outputs": [
    {
     "data": {
      "text/plain": [
       "0        As U.S. budget fight looms, Republicans flip t...\n",
       "1        U.S. military to accept transgender recruits o...\n",
       "2        Senior U.S. Republican senator: 'Let Mr. Muell...\n",
       "3        FBI Russia probe helped by Australian diplomat...\n",
       "4        Trump wants Postal Service to charge 'much mor...\n",
       "                               ...                        \n",
       "44893    McPain: John McCain Furious That Iran Treated ...\n",
       "44894    JUSTICE? Yahoo Settles E-mail Privacy Class-ac...\n",
       "44895    Sunnistan: US and Allied ‘Safe Zone’ Plan to T...\n",
       "44896    How to Blow $700 Million: Al Jazeera America F...\n",
       "44897    10 U.S. Navy Sailors Held by Iranian Military ...\n",
       "Name: title, Length: 44898, dtype: object"
      ]
     },
     "execution_count": 3,
     "metadata": {},
     "output_type": "execute_result"
    }
   ],
   "source": [
    "data['title']"
   ]
  },
  {
   "cell_type": "code",
   "execution_count": 5,
   "id": "c3db966f-6deb-4d23-924b-9a314ad78fc0",
   "metadata": {},
   "outputs": [
    {
     "name": "stderr",
     "output_type": "stream",
     "text": [
      "/Users/mdunford/opt/anaconda3/envs/tweet_project/lib/python3.7/site-packages/ipykernel_launcher.py:2: SettingWithCopyWarning: \n",
      "A value is trying to be set on a copy of a slice from a DataFrame.\n",
      "Try using .loc[row_indexer,col_indexer] = value instead\n",
      "\n",
      "See the caveats in the documentation: https://pandas.pydata.org/pandas-docs/stable/user_guide/indexing.html#returning-a-view-versus-a-copy\n",
      "  \n"
     ]
    },
    {
     "data": {
      "text/plain": [
       "<AxesSubplot:xlabel='length', ylabel='Count'>"
      ]
     },
     "execution_count": 5,
     "metadata": {},
     "output_type": "execute_result"
    },
    {
     "data": {
      "image/png": "[encoded data removed]",
      "text/plain": [
       "<Figure size 432x288 with 1 Axes>"
      ]
     },
     "metadata": {
      "needs_background": "light"
     },
     "output_type": "display_data"
    }
   ],
   "source": [
    "dat = data[['title','class']]\n",
    "dat['length'] = dat['title'].apply(len)\n",
    "sns.histplot(data=dat, x='length', hue='class')"
   ]
  },
  {
   "cell_type": "code",
   "execution_count": 184,
   "id": "c9a50ba6-cd7e-4b19-8276-d03bb02fac62",
   "metadata": {},
   "outputs": [
    {
     "data": {
      "text/plain": [
       "0        64\n",
       "1        64\n",
       "2        60\n",
       "3        59\n",
       "4        69\n",
       "         ..\n",
       "23476    61\n",
       "23477    81\n",
       "23478    85\n",
       "23479    67\n",
       "23480    81\n",
       "Name: title, Length: 44898, dtype: int64"
      ]
     },
     "execution_count": 184,
     "metadata": {},
     "output_type": "execute_result"
    }
   ],
   "source": [
    "dat"
   ]
  },
  {
   "cell_type": "markdown",
   "id": "08cb6468-318c-44f9-81c6-17f396e8315b",
   "metadata": {},
   "source": [
    " "
   ]
  },
  {
   "cell_type": "markdown",
   "id": "86d1ff50-90c9-45ec-8316-6740a4112e90",
   "metadata": {},
   "source": [
    " "
   ]
  },
  {
   "cell_type": "markdown",
   "id": "35062918-be40-4708-93ea-cc331deb26c8",
   "metadata": {},
   "source": [
    " "
   ]
  },
  {
   "cell_type": "markdown",
   "id": "74167777-e1d9-4ebb-8555-9ec75e79c08b",
   "metadata": {},
   "source": [
    "## Build model"
   ]
  },
  {
   "cell_type": "code",
   "execution_count": 6,
   "id": "28da5239-648c-421f-b025-823569aa14ab",
   "metadata": {},
   "outputs": [],
   "source": [
    "from sklearn.feature_extraction.text import CountVectorizer, TfidfTransformer\n",
    "\n",
    "from sklearn.model_selection import GridSearchCV\n",
    "from sklearn.pipeline import Pipeline\n",
    "from sklearn.model_selection import train_test_split\n",
    "\n",
    "from sklearn.linear_model import SGDClassifier\n",
    "from sklearn.svm import SVC\n",
    "from sklearn.naive_bayes import MultinomialNB\n",
    "\n",
    "\n",
    "df = data.sample(n=1000)\n",
    "X = df['title']\n",
    "y = df['class']\n",
    "X_train, X_test, y_train, y_test = train_test_split(X, y, test_size=0.33, random_state=42)\n",
    "\n",
    "\n",
    "def make_pipe(vectorizer, transformer, classifier):\n",
    "    pipe = Pipeline([\n",
    "        ('vect', vectorizer),\n",
    "        ('trans', transformer),\n",
    "        ('clf', classifier)\n",
    "    ])\n",
    "    return pipe"
   ]
  },
  {
   "cell_type": "code",
   "execution_count": 7,
   "id": "e52e49cd-5345-4917-b378-9a81aac35a04",
   "metadata": {},
   "outputs": [],
   "source": [
    "vectorizer = CountVectorizer(\n",
    "    preprocessor=string_process,\n",
    "    tokenizer=tokenize_string,\n",
    "    max_df=0.8,\n",
    "    max_features=2000\n",
    ")\n",
    "\n",
    "tfidf = TfidfTransformer()\n",
    "\n",
    "clf = MultinomialNB()\n",
    "\n",
    "pipe = make_pipe(vectorizer, tfidf, clf)"
   ]
  },
  {
   "cell_type": "code",
   "execution_count": 8,
   "id": "8977a927-6311-42df-8ddf-6253b284e13b",
   "metadata": {},
   "outputs": [
    {
     "data": {
      "text/plain": [
       "Pipeline(steps=[('vect',\n",
       "                 CountVectorizer(max_df=0.8, max_features=2000,\n",
       "                                 preprocessor=<function string_process at 0x7ff672115d40>,\n",
       "                                 tokenizer=<function tokenize_string at 0x7ff672115950>)),\n",
       "                ('trans', TfidfTransformer()), ('clf', MultinomialNB())])"
      ]
     },
     "execution_count": 8,
     "metadata": {},
     "output_type": "execute_result"
    }
   ],
   "source": [
    "pipe.fit(X_train, y_train)"
   ]
  },
  {
   "cell_type": "code",
   "execution_count": 9,
   "id": "30db55f4-71c8-46b4-ae79-50c11ed2f212",
   "metadata": {},
   "outputs": [],
   "source": [
    "predictions = pipe.predict(X_test)"
   ]
  },
  {
   "cell_type": "code",
   "execution_count": 10,
   "id": "c048fd69-5ffb-4079-9a7f-69373e5a2aa8",
   "metadata": {},
   "outputs": [
    {
     "ename": "NameError",
     "evalue": "name 'accuracy_score' is not defined",
     "output_type": "error",
     "traceback": [
      "\u001b[0;31m---------------------------------------------------------------------------\u001b[0m",
      "\u001b[0;31mNameError\u001b[0m                                 Traceback (most recent call last)",
      "\u001b[0;32m/var/folders/g1/9d3pn31n79n6k00h43ll8xrh0000gn/T/ipykernel_88514/2236562617.py\u001b[0m in \u001b[0;36m<module>\u001b[0;34m\u001b[0m\n\u001b[0;32m----> 1\u001b[0;31m \u001b[0maccuracy_score\u001b[0m\u001b[0;34m(\u001b[0m\u001b[0mpredictions\u001b[0m\u001b[0;34m,\u001b[0m \u001b[0my_test\u001b[0m\u001b[0;34m)\u001b[0m\u001b[0;34m\u001b[0m\u001b[0;34m\u001b[0m\u001b[0m\n\u001b[0m",
      "\u001b[0;31mNameError\u001b[0m: name 'accuracy_score' is not defined"
     ]
    }
   ],
   "source": [
    "accuracy_score(predictions, y_test)"
   ]
  },
  {
   "cell_type": "markdown",
   "id": "2b0cbe05-6a0e-487b-b1b5-434223c685e0",
   "metadata": {},
   "source": [
    " "
   ]
  },
  {
   "cell_type": "markdown",
   "id": "df096147-6e72-44e4-91be-62d51e519d5f",
   "metadata": {},
   "source": [
    " "
   ]
  },
  {
   "cell_type": "markdown",
   "id": "f279126b-5ea0-4347-a0bf-a6b36d0d455c",
   "metadata": {},
   "source": [
    " "
   ]
  },
  {
   "cell_type": "markdown",
   "id": "47fae21e-6406-48f6-86cf-bd29abe46c2b",
   "metadata": {},
   "source": [
    "## Model assessment"
   ]
  },
  {
   "cell_type": "code",
   "execution_count": 11,
   "id": "0deed088-b684-429e-8f53-01e5d89c60e8",
   "metadata": {},
   "outputs": [],
   "source": [
    "from sklearn.metrics import accuracy_score, classification_report, confusion_matrix"
   ]
  },
  {
   "cell_type": "code",
   "execution_count": 241,
   "id": "4f5fca28-5d7e-4890-a18c-c41b8980aa0c",
   "metadata": {},
   "outputs": [
    {
     "data": {
      "text/plain": [
       "0.9018181818181819"
      ]
     },
     "execution_count": 241,
     "metadata": {},
     "output_type": "execute_result"
    }
   ],
   "source": [
    "accuracy_score(predictions, y_test)"
   ]
  },
  {
   "cell_type": "code",
   "execution_count": 242,
   "id": "3267cd6d-67e5-44d1-89f4-23d21df85d4c",
   "metadata": {},
   "outputs": [
    {
     "name": "stdout",
     "output_type": "stream",
     "text": [
      "              precision    recall  f1-score   support\n",
      "\n",
      "           0       0.90      0.89      0.89       769\n",
      "           1       0.90      0.91      0.91       881\n",
      "\n",
      "    accuracy                           0.90      1650\n",
      "   macro avg       0.90      0.90      0.90      1650\n",
      "weighted avg       0.90      0.90      0.90      1650\n",
      "\n"
     ]
    }
   ],
   "source": [
    "print(classification_report(predictions, y_test))"
   ]
  },
  {
   "cell_type": "code",
   "execution_count": 243,
   "id": "903e5640-16a5-4536-8ba5-99117765e7d9",
   "metadata": {},
   "outputs": [
    {
     "data": {
      "text/plain": [
       "array([[684,  85],\n",
       "       [ 77, 804]])"
      ]
     },
     "execution_count": 243,
     "metadata": {},
     "output_type": "execute_result"
    }
   ],
   "source": [
    "confusion_matrix(predictions, y_test)"
   ]
  },
  {
   "cell_type": "code",
   "execution_count": 217,
   "id": "dd7ded44-c20f-41dd-9424-8a0862e93edb",
   "metadata": {},
   "outputs": [
    {
     "name": "stdout",
     "output_type": "stream",
     "text": [
      "News article:\n",
      "\n",
      "\n",
      "U.N. expert says torture persists at Guantanamo Bay; U.S. denies\n",
      "\n",
      "\n",
      "Ground truth: 12351    0\n",
      "Name: class, dtype: int64\n",
      "Verdict: Real news\n"
     ]
    }
   ],
   "source": [
    "sample_ = data.sample(1)\n",
    "title = sample_['title']\n",
    "truth = sample_['class']\n",
    "\n",
    "print('News article:\\n\\n')\n",
    "print(sample_['title'].values[0])\n",
    "print('\\n')\n",
    "print('Ground truth: '+str(truth))\n",
    "if pipe.predict([sample_['title'].values[0]])==1:\n",
    "    print('Verdict: FAKE NEWS!!!!')\n",
    "else:\n",
    "    print('Verdict: Real news')"
   ]
  },
  {
   "cell_type": "markdown",
   "id": "5a36f4a8-a4b7-4581-bf2e-a4344ea91579",
   "metadata": {},
   "source": [
    " "
   ]
  },
  {
   "cell_type": "markdown",
   "id": "5db5dd5d-5018-4ffe-9fbc-4ab869727272",
   "metadata": {},
   "source": [
    " "
   ]
  },
  {
   "cell_type": "markdown",
   "id": "491d27f7-38b6-468d-863c-6278c4376430",
   "metadata": {},
   "source": [
    " "
   ]
  },
  {
   "cell_type": "markdown",
   "id": "c756faea-9689-4fe7-8a66-c97b88a8a766",
   "metadata": {},
   "source": [
    " "
   ]
  },
  {
   "cell_type": "markdown",
   "id": "a2974d3d-715f-48ae-b93a-2cfb5c59f977",
   "metadata": {},
   "source": [
    "## Neural Net"
   ]
  },
  {
   "cell_type": "code",
   "execution_count": null,
   "id": "dbff24e4-26ef-45b0-9f17-3440a5861542",
   "metadata": {},
   "outputs": [],
   "source": [
    "import tensorflow as tf\n",
    "\n",
    "def make_model(input_dims=6, num_units=12):\n",
    "    model = tf.keras.Sequential()\n",
    "    \n",
    "    model.add(tf.keras.layers.Dense(units=num_units, input_dim=input_dims, activation='relu'))\n",
    "    \n",
    "    model.add(tf.keras.layers.Dense(1, activation='sigmoid'))\n",
    "    \n",
    "    model.compile(loss='binary_crossentropy', optimizer='adam', metrics=['accuracy'])\n",
    "    \n",
    "    return model"
   ]
  },
  {
   "cell_type": "code",
   "execution_count": null,
   "id": "b529ddec-cc6c-4f96-a26d-73397bc49f24",
   "metadata": {},
   "outputs": [],
   "source": [
    "model = make_model(input_dims=6, num_units=12)"
   ]
  },
  {
   "cell_type": "code",
   "execution_count": 33,
   "id": "64913fd8-7eb4-4a49-b2dd-7ee251d79a73",
   "metadata": {},
   "outputs": [
    {
     "name": "stdout",
     "output_type": "stream",
     "text": [
      "Epoch 1/10\n",
      "670/670 [==============================] - 0s 281us/sample - loss: 7.4817 - acc: 0.5358\n",
      "Epoch 2/10\n",
      "670/670 [==============================] - 0s 240us/sample - loss: 7.4817 - acc: 0.5358\n",
      "Epoch 3/10\n",
      "670/670 [==============================] - 0s 226us/sample - loss: 7.4817 - acc: 0.5358\n",
      "Epoch 4/10\n",
      "670/670 [==============================] - 0s 225us/sample - loss: 7.4817 - acc: 0.5358s - loss: 7.2531 - acc: 0.550\n",
      "Epoch 5/10\n",
      "670/670 [==============================] - 0s 218us/sample - loss: 7.4817 - acc: 0.5358\n",
      "Epoch 6/10\n",
      "670/670 [==============================] - 0s 210us/sample - loss: 7.4817 - acc: 0.5358\n",
      "Epoch 7/10\n",
      "670/670 [==============================] - 0s 230us/sample - loss: 7.4817 - acc: 0.5358\n",
      "Epoch 8/10\n",
      "670/670 [==============================] - 0s 220us/sample - loss: 7.4817 - acc: 0.5358\n",
      "Epoch 9/10\n",
      "670/670 [==============================] - 0s 228us/sample - loss: 7.4817 - acc: 0.5358\n",
      "Epoch 10/10\n",
      "670/670 [==============================] - 0s 226us/sample - loss: 7.4817 - acc: 0.5358s - loss: 7.4283 - acc: 0.539\n"
     ]
    },
    {
     "data": {
      "text/plain": [
       "<tensorflow.python.keras.callbacks.History at 0x7f9eedc38990>"
      ]
     },
     "execution_count": 33,
     "metadata": {},
     "output_type": "execute_result"
    }
   ],
   "source": [
    "model.fit(X_train, y_train, epochs=10, batch_size=10)"
   ]
  }
 ],
 "metadata": {
  "kernelspec": {
   "display_name": "Python 3 (ipykernel)",
   "language": "python",
   "name": "python3"
  },
  "language_info": {
   "codemirror_mode": {
    "name": "ipython",
    "version": 3
   },
   "file_extension": ".py",
   "mimetype": "text/x-python",
   "name": "python",
   "nbconvert_exporter": "python",
   "pygments_lexer": "ipython3",
   "version": "3.7.11"
  }
 },
 "nbformat": 4,
 "nbformat_minor": 5
}
